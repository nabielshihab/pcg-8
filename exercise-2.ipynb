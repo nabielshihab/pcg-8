{
 "cells": [
  {
   "cell_type": "markdown",
   "id": "0b423165-8e74-49ec-b50f-cca3faf650c1",
   "metadata": {},
   "source": [
    "# Exercise-2 (Class)"
   ]
  },
  {
   "cell_type": "markdown",
   "id": "385b68e3-41f9-4e46-8b38-363692dbadef",
   "metadata": {},
   "source": [
    "1. define Seismicity class:\n",
    "\n",
    "``` python\n",
    "class Seismicity:\n",
    "    \"\"\"a class for summarizing seismic activity of a region\"\"\"\n",
    "    \n",
    "    def __init__(self, df):\n",
    "        \"\"\"\n",
    "        initialize seismicity attributes.\n",
    "        df needs to have X, Y, Z and M columns.\n",
    "        \"\"\"\n",
    "        self.df = df\n",
    "        self.x = df['X']\n",
    "        self.y = df['Y']\n",
    "        self.z = df['Z']\n",
    "        self.mag = df['M']\n",
    "        \n",
    "    def plot_epicenters(self):\n",
    "        \"\"\"plot earthquake epicenters\"\"\"\n",
    "        fig, ax = plt.subplots()\n",
    "        ax.scatter(self.x, self.y)\n",
    "        ax.set(title='earthquake epicenter')\n",
    "\n",
    "    def plot_hypocenters(self):\n",
    "        \"\"\"plot earthquake hypocenters\"\"\"\n",
    "        fig = px.scatter_3d(self.df, x='X', y='Y', z='Z', color='M')\n",
    "        fig.show()\n",
    "```\n",
    "  \n",
    "2. load earthquakes.csv data using pandas.\n",
    "3. create an instance of Seismicity class.\n",
    ">- plot epicenters\n",
    ">- plot hypocenters.\n",
    "\n",
    "6. create a new class named SeismicStats that inherit attributes and methods of the Seismicity class.\n",
    ">- plot epicenters\n",
    ">- display number of events, mininum magnitude and maximum magnitude using describe method\n",
    "\n",
    "````python\n",
    "class SeismicStats(Seismicity):\n",
    "    \"\"\"\"Seismicity descriptive Analytics\"\"\"\n",
    "\n",
    "    def __init__(self, df):\n",
    "        \"\"\"initialize attributes\"\"\"\n",
    "        super().__init__(df)\n",
    "    \n",
    "    def describe(self):\n",
    "        \"\"\"get number of events, mininum magnitude and maximum magnitude\"\"\"\n",
    "        print(f\"Number of events: {self.df.shape[0]}\")\n",
    "        print(f\"min. magnitude: {min(self.mag)}\")\n",
    "        print(f\"max. magnitude: {max(self.mag)}\")\n"
   ]
  },
  {
   "cell_type": "markdown",
   "id": "aa239265-f464-4390-a34c-a4e23cb75240",
   "metadata": {},
   "source": [
    "# Answers"
   ]
  },
  {
   "cell_type": "markdown",
   "id": "4fcb9e90-6d4b-4529-85b9-ab2333d7daad",
   "metadata": {},
   "source": [
    "## Import packages / libraries"
   ]
  },
  {
   "cell_type": "code",
   "execution_count": null,
   "id": "9d40ef68-a735-46b5-b73a-ddadfaff2285",
   "metadata": {},
   "outputs": [],
   "source": []
  },
  {
   "cell_type": "markdown",
   "id": "cfa68766-432b-4a40-9063-a4ba5c0d2817",
   "metadata": {},
   "source": [
    "## Classes"
   ]
  },
  {
   "cell_type": "code",
   "execution_count": null,
   "id": "c6d74f9d-b6db-4e6b-9b2e-8a85f42f1110",
   "metadata": {},
   "outputs": [],
   "source": []
  },
  {
   "cell_type": "markdown",
   "id": "637fa9a6-8559-4cec-8de7-2302b8282ea6",
   "metadata": {},
   "source": [
    "## Load Dataset"
   ]
  },
  {
   "cell_type": "code",
   "execution_count": null,
   "id": "cb1dee91-3ef5-41b3-8af0-f658a1b406b8",
   "metadata": {},
   "outputs": [],
   "source": []
  },
  {
   "cell_type": "markdown",
   "id": "0572fd21-3a48-4bc2-85a5-a787050523bc",
   "metadata": {},
   "source": [
    "## Create an instance of Seismicity class"
   ]
  },
  {
   "cell_type": "code",
   "execution_count": null,
   "id": "0a1abbed-3255-4a16-976b-f467802b8fee",
   "metadata": {},
   "outputs": [],
   "source": []
  },
  {
   "cell_type": "markdown",
   "id": "23db321f-70d9-4f9e-bed9-27a6ec0512d0",
   "metadata": {},
   "source": [
    "### Plot Epicenters"
   ]
  },
  {
   "cell_type": "code",
   "execution_count": null,
   "id": "9c303bdf-4423-4ece-9eac-4e50bf94c06a",
   "metadata": {},
   "outputs": [],
   "source": []
  },
  {
   "cell_type": "markdown",
   "id": "719c71a8-b7f9-4570-a910-260b7013c78b",
   "metadata": {},
   "source": [
    "### Plot hypocenters"
   ]
  },
  {
   "cell_type": "code",
   "execution_count": null,
   "id": "40b0dc22-62c7-4bae-b8a8-9a757813f427",
   "metadata": {},
   "outputs": [],
   "source": []
  },
  {
   "cell_type": "markdown",
   "id": "91a864e2-02a3-49a1-8184-008816a63d6d",
   "metadata": {},
   "source": [
    "## Create an instance of SeismicStats class"
   ]
  },
  {
   "cell_type": "code",
   "execution_count": null,
   "id": "403c2c2c-7478-4ab2-bee6-dcb1f73bb6c1",
   "metadata": {},
   "outputs": [],
   "source": []
  },
  {
   "cell_type": "markdown",
   "id": "43ec345d-bdd4-411c-ba32-6652e2acdcdd",
   "metadata": {},
   "source": [
    "### Plot epicenters"
   ]
  },
  {
   "cell_type": "code",
   "execution_count": null,
   "id": "a06ec440-aa68-4223-b3bf-0a2888fb0f3b",
   "metadata": {},
   "outputs": [],
   "source": []
  },
  {
   "cell_type": "markdown",
   "id": "97c941ef-8b69-4382-b365-d05fc283fa5d",
   "metadata": {},
   "source": [
    "### Descriptive Statistcis"
   ]
  },
  {
   "cell_type": "code",
   "execution_count": null,
   "id": "2ba8a6de-24a4-4af9-ab0a-90854f611d1f",
   "metadata": {},
   "outputs": [],
   "source": []
  }
 ],
 "metadata": {
  "kernelspec": {
   "display_name": "Python 3 (ipykernel)",
   "language": "python",
   "name": "python3"
  },
  "language_info": {
   "codemirror_mode": {
    "name": "ipython",
    "version": 3
   },
   "file_extension": ".py",
   "mimetype": "text/x-python",
   "name": "python",
   "nbconvert_exporter": "python",
   "pygments_lexer": "ipython3",
   "version": "3.12.4"
  }
 },
 "nbformat": 4,
 "nbformat_minor": 5
}
