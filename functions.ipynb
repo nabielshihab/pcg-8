{
 "cells": [
  {
   "cell_type": "markdown",
   "id": "19e51ffa-0796-419b-b1f6-5893445959b7",
   "metadata": {},
   "source": [
    "**AUTHOR:**  \n",
    "**Nabiel Husein Shihab**\n",
    "- email: nabielshihab@hotmail.com   \n",
    "- Linkedin: https://www.linkedin.com/in/nabiel-shihab/  \n",
    "- GitHub: https://github.com/nabielshihab  "
   ]
  },
  {
   "attachments": {},
   "cell_type": "markdown",
   "id": "84f0fa4b-58a3-4001-901c-86cf5b5d9f4d",
   "metadata": {},
   "source": [
    "**NOTEBOOK DESCRIPTION**\n",
    "\n",
    "This notebook tells us about Python functions, which are named blocks of code that are designed to do one specific job. In this notebook, we will learn about:\n",
    ">- what functions are\n",
    ">- how to write functions\n",
    ">- how to pass information to a function\n",
    ">- return values\n",
    ">- passing an arbitrary number of arguments\n",
    ">- storing our functions in modules\n",
    "\n",
    "So, without further ado, let's learn!"
   ]
  },
  {
   "attachments": {},
   "cell_type": "markdown",
   "id": "71a01f47-fd6c-43b6-93d7-2dda470c630d",
   "metadata": {},
   "source": [
    "# What is a Function?\n",
    "\n",
    "Functions are blocks of code / instruction that are designed to do one specific job, for example:\n",
    "- displaying information (texts / plots)\n",
    "- processing data and returning a value or set of values\n",
    "\n",
    "**What is the purpose of functions?**  \n",
    "By using a function, we don’t need to type all the same code for the same task repeatedly. Thus, it makes our programs easier to write, read, test, and fix."
   ]
  },
  {
   "cell_type": "markdown",
   "id": "80915d1e-99cd-4c03-abc4-f6b328f8cc52",
   "metadata": {},
   "source": [
    "#  Writing a Function\n",
    "\n",
    "Below is the syntax to write functions.\n",
    "\n",
    "```python\n",
    "1    def greet():\n",
    "2        \"\"\"print a greeting message\"\"\"\n",
    "3        print(\"Hello, you!\")\n",
    "\n",
    "4    greet()\n",
    "```\n",
    "\n",
    "**EXPLANATION**  \n",
    "- line 1 is what is called ***function definition***. It tells Python the name of the function and the information it needs to do its job. It starts with the *def* keyword, followed by the name of the function, then parentheses that hold the information (in this case, the greet function needs no information), and ends with a colon. Any indented lines after this, is called the ***function body***.\n",
    "- line 2 is a comment called *docstring*. It is enclosed in triple quotes. It describes what the function does, the information it needs (if needed), and the returned values (if any). It is a good practice to always write a docstring when you define a function.\n",
    "- line 3 is the actual code / instructions.\n",
    "- line 4 is the ***function call***. After we have defined a function, we need to call it to do its job. We just need to write the function name and the information it needs.\n",
    "\n",
    "let's define the greet function!"
   ]
  },
  {
   "cell_type": "code",
   "execution_count": 5,
   "id": "cda0dd39-3a49-4720-bc5d-686163d9f00e",
   "metadata": {},
   "outputs": [],
   "source": [
    "def greet():\n",
    "    \"\"\"print a greeting message\"\"\"\n",
    "    print(\"Hello, you!\")"
   ]
  },
  {
   "cell_type": "markdown",
   "id": "04cc61f0-c2e1-44e2-8f27-81da9b659d9a",
   "metadata": {},
   "source": [
    "Now, let's call it!"
   ]
  },
  {
   "cell_type": "code",
   "execution_count": 6,
   "id": "de298799-71cb-49f2-8a19-8e9417a1d82f",
   "metadata": {},
   "outputs": [
    {
     "name": "stdout",
     "output_type": "stream",
     "text": [
      "Hello, you!\n"
     ]
    }
   ],
   "source": [
    "greet()"
   ]
  },
  {
   "cell_type": "markdown",
   "id": "aadcf100-6a20-49e4-893a-bad731a331b4",
   "metadata": {},
   "source": [
    "# Passing Information to a Function\n",
    "\n",
    "The information is written inside the parentheses. For example we want to greet someone by his/her name. The *name* is the information the function needs, so we need to put it into the parentheses. We need to modify the function slightly as well."
   ]
  },
  {
   "cell_type": "code",
   "execution_count": 15,
   "id": "cb173215-2276-49aa-a1c1-7aaea66dd49b",
   "metadata": {},
   "outputs": [],
   "source": [
    "def greet(name):\n",
    "    \"\"\"\n",
    "    print a greeting message\n",
    "\n",
    "    Parameter\n",
    "    ----------\n",
    "    name: {str} the name of the person\n",
    "    \"\"\"\n",
    "    print(f\"Hello, {name.title()}!\")"
   ]
  },
  {
   "cell_type": "markdown",
   "id": "7904f5a5-7e97-4fc2-bcb6-39a2c59ebc64",
   "metadata": {},
   "source": [
    "- We put a *parameter* into the function definition.  \n",
    "- we modified the docstring, so the user can understand what parameters and their associated types of data needed to tun the function.  \n",
    "- we modified the code so it can print the titlecased name.  \n",
    "\n",
    "Now, let's pass a name, such as 'jeki', inside the parentheses."
   ]
  },
  {
   "cell_type": "code",
   "execution_count": 13,
   "id": "19d3c581-bde2-4219-b095-ec310542c59d",
   "metadata": {},
   "outputs": [
    {
     "name": "stdout",
     "output_type": "stream",
     "text": [
      "Hello, Jeki!\n"
     ]
    }
   ],
   "source": [
    "greet('jeki')"
   ]
  },
  {
   "cell_type": "markdown",
   "id": "f889c232-1fa6-4550-b4cf-42c1815d93e9",
   "metadata": {},
   "source": [
    "Done! we can call greet(name) as often as we want.\n",
    "\n",
    "**NOTE**  \n",
    "The information in the function definition is called *parameters*, while the information in the function call is called *arguments*. So, the variable *name* is the parameter, while the value \"jeki\" is the argument. However, sometimes people use them interchangeably"
   ]
  },
  {
   "cell_type": "code",
   "execution_count": 19,
   "id": "f2438e30-b6a9-47af-a99f-06d65447775b",
   "metadata": {},
   "outputs": [
    {
     "name": "stdout",
     "output_type": "stream",
     "text": [
      "Hello, Jeki!\n",
      "Hello, Ivan!\n",
      "Hello, Ajie!\n"
     ]
    }
   ],
   "source": [
    "greet('jeki')\n",
    "greet('ivan')\n",
    "greet('ajie')"
   ]
  },
  {
   "cell_type": "code",
   "execution_count": null,
   "id": "9ca2b348-e7ee-41b4-9533-1a8a003d83e0",
   "metadata": {},
   "outputs": [],
   "source": []
  },
  {
   "cell_type": "code",
   "execution_count": null,
   "id": "033f6080-be4b-427f-a4db-1696d847d7ae",
   "metadata": {},
   "outputs": [],
   "source": []
  },
  {
   "cell_type": "code",
   "execution_count": null,
   "id": "cae23682-d086-406c-9717-4a73a7aae0b2",
   "metadata": {},
   "outputs": [],
   "source": []
  },
  {
   "cell_type": "code",
   "execution_count": null,
   "id": "67c8052c-a280-4952-b4b0-808ec1b022eb",
   "metadata": {},
   "outputs": [],
   "source": []
  },
  {
   "cell_type": "code",
   "execution_count": 1,
   "id": "0e4adc69-7f47-4745-a846-2e2329587dfe",
   "metadata": {},
   "outputs": [
    {
     "name": "stdout",
     "output_type": "stream",
     "text": [
      "Hello, Nabiel!\n"
     ]
    }
   ],
   "source": [
    "from packages.my_module import greet, pet, square\n",
    "\n",
    "greet('nabiel')"
   ]
  },
  {
   "cell_type": "markdown",
   "id": "30aced51-1ce4-4269-83e0-c7fa3305ad64",
   "metadata": {},
   "source": [
    "# Good-to-know"
   ]
  },
  {
   "cell_type": "markdown",
   "id": "60fd223e-ad5b-4af1-892a-4c658db410c8",
   "metadata": {},
   "source": [
    "We can read the description of a function using `help(function_name)`. It will print the function's docstring."
   ]
  },
  {
   "cell_type": "code",
   "execution_count": 18,
   "id": "bcc1ef80-5011-45eb-af81-4e1f665eea8c",
   "metadata": {},
   "outputs": [
    {
     "name": "stdout",
     "output_type": "stream",
     "text": [
      "Help on function greet in module __main__:\n",
      "\n",
      "greet(name)\n",
      "    print a greeting message\n",
      "\n",
      "    Parameter\n",
      "    ----------\n",
      "    name: {str} the name of the person\n",
      "\n"
     ]
    }
   ],
   "source": [
    "help(greet)"
   ]
  },
  {
   "cell_type": "code",
   "execution_count": null,
   "id": "bf3fd8dc-791d-4fdc-8aa3-6a3f26039363",
   "metadata": {},
   "outputs": [],
   "source": []
  }
 ],
 "metadata": {
  "kernelspec": {
   "display_name": "Python 3 (ipykernel)",
   "language": "python",
   "name": "python3"
  },
  "language_info": {
   "codemirror_mode": {
    "name": "ipython",
    "version": 3
   },
   "file_extension": ".py",
   "mimetype": "text/x-python",
   "name": "python",
   "nbconvert_exporter": "python",
   "pygments_lexer": "ipython3",
   "version": "3.12.4"
  }
 },
 "nbformat": 4,
 "nbformat_minor": 5
}
