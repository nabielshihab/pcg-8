{
 "cells": [
  {
   "cell_type": "markdown",
   "id": "6376f40b-f26b-4ac7-aa4f-14d224274f2b",
   "metadata": {},
   "source": [
    "# Exercise-1 (Function)"
   ]
  },
  {
   "cell_type": "markdown",
   "id": "7cbf744e-d0ba-4b90-941b-8a271a26c1b3",
   "metadata": {},
   "source": [
    "1. create a function to plot earthquake epicenters:\n",
    "\n",
    "``` python\n",
    "def plot_epicenters(x, y):\n",
    "    \"\"\"\n",
    "    plot earthquake epicenters\n",
    "\n",
    "    Parameters:\n",
    "    -----------\n",
    "    x, y : {float or array-like} The data positions with shape (n, ).    \n",
    "    \n",
    "    Returns:\n",
    "    -----------\n",
    "    fig : {matplotlib.figure object} a epicenters plot \n",
    "    \"\"\"\n",
    "    \n",
    "    fig, ax = plt.subplots()\n",
    "    ax.scatter(x, y)\n",
    "    ax.set(title='earthquake epicenter')\n",
    "    \n",
    "    return fig\n",
    "```\n",
    "  \n",
    "2. load earthquakes.csv data using pandas and plot the epicenters using plot_epicenters function\n",
    "\n",
    "3. add a color parameter (c) and set its default value to red ('r')\n",
    ">- Write c as a parameter in function definition and set the value to 'r'\n",
    ">- insert c as an argument in ax.scatter()\n",
    ">- plot the epicenters using the modified plot_epicenters function\n",
    "       \n",
    "4. modify the plot_epicenters function so it can accept arbitraty keyword arguments (**kwargs).\n",
    ">- Write **kwargs as a parameter in function definition\n",
    ">- insert **kwargs as an argument in ax.scatter()\n",
    ">- add some keyword arguments (edgecolors = 'k', alpha=0.8)\n",
    ">- plot the epicenters using the modified plot_epicenters function\n",
    "\n",
    "5. store the function into another module.\n",
    ">- import the module\n",
    ">- plot the epicenters using the imported plot_epicenters function"
   ]
  },
  {
   "cell_type": "code",
   "execution_count": null,
   "id": "372dbfdb-6dd0-4ed5-af87-e3352f82c225",
   "metadata": {},
   "outputs": [],
   "source": []
  },
  {
   "cell_type": "markdown",
   "id": "00535b8d-3610-4a28-9f67-72762776afbf",
   "metadata": {},
   "source": [
    "# Answers"
   ]
  },
  {
   "cell_type": "markdown",
   "id": "f418af2c-9d3b-49e6-8dbe-166e64a6cd84",
   "metadata": {},
   "source": [
    "## Import packages / libraries"
   ]
  },
  {
   "cell_type": "code",
   "execution_count": null,
   "id": "6953a60e-85ab-4a2a-8433-6745e30f5e2c",
   "metadata": {},
   "outputs": [],
   "source": []
  },
  {
   "cell_type": "markdown",
   "id": "7ffb5a83-bd75-4175-aba0-fad9f38ac6bc",
   "metadata": {},
   "source": [
    "## User-defined functions"
   ]
  },
  {
   "cell_type": "code",
   "execution_count": null,
   "id": "9461957d-22cd-46ba-b9f3-669ea4236d49",
   "metadata": {},
   "outputs": [],
   "source": []
  },
  {
   "cell_type": "markdown",
   "id": "ae025965-21bc-4774-828a-8985cc1be936",
   "metadata": {},
   "source": [
    "## Load Dataset"
   ]
  },
  {
   "cell_type": "code",
   "execution_count": null,
   "id": "df8b13f4-f1a6-4029-84a0-b5d9b27f12ef",
   "metadata": {},
   "outputs": [],
   "source": []
  },
  {
   "cell_type": "markdown",
   "id": "d3b6373c-8324-4f71-98fe-114402dbcd86",
   "metadata": {},
   "source": [
    "## Plot Epicenters"
   ]
  },
  {
   "cell_type": "code",
   "execution_count": null,
   "id": "1e61e20c-2a7b-419c-8c03-8e2e35659ecf",
   "metadata": {},
   "outputs": [],
   "source": []
  }
 ],
 "metadata": {
  "kernelspec": {
   "display_name": "Python 3 (ipykernel)",
   "language": "python",
   "name": "python3"
  },
  "language_info": {
   "codemirror_mode": {
    "name": "ipython",
    "version": 3
   },
   "file_extension": ".py",
   "mimetype": "text/x-python",
   "name": "python",
   "nbconvert_exporter": "python",
   "pygments_lexer": "ipython3",
   "version": "3.12.4"
  }
 },
 "nbformat": 4,
 "nbformat_minor": 5
}
